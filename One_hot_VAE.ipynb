{
  "nbformat": 4,
  "nbformat_minor": 0,
  "metadata": {
    "colab": {
      "name": "One_hot_VAE.ipynb",
      "provenance": [],
      "collapsed_sections": [],
      "machine_shape": "hm",
      "authorship_tag": "ABX9TyNoIpzHFSrkQ4EoonjYBRLs",
      "include_colab_link": true
    },
    "kernelspec": {
      "name": "python3",
      "display_name": "Python 3"
    },
    "language_info": {
      "name": "python"
    },
    "accelerator": "GPU",
    "gpuClass": "standard"
  },
  "cells": [
    {
      "cell_type": "markdown",
      "metadata": {
        "id": "view-in-github",
        "colab_type": "text"
      },
      "source": [
        "<a href=\"https://colab.research.google.com/github/hereagain-Y/test-only/blob/main/One_hot_VAE.ipynb\" target=\"_parent\"><img src=\"https://colab.research.google.com/assets/colab-badge.svg\" alt=\"Open In Colab\"/></a>"
      ]
    },
    {
      "cell_type": "markdown",
      "source": [
        "Try One-hot encoding in VAE model "
      ],
      "metadata": {
        "id": "cP2AgY3zvfSm"
      }
    },
    {
      "cell_type": "code",
      "execution_count": 1,
      "metadata": {
        "id": "Nd4kGGpWuRap"
      },
      "outputs": [],
      "source": [
        "import numpy as np\n",
        "import pandas as pd\n",
        "import torch\n",
        "import torch.nn as nn\n",
        "import torchvision.transforms as transforms\n",
        "import numpy as np\n",
        "from tqdm import tqdm\n",
        "from torchvision.utils import save_image, make_grid\n",
        "from torch.utils.data import DataLoader, Subset\n",
        "from sklearn.model_selection import train_test_split"
      ]
    },
    {
      "cell_type": "code",
      "source": [
        "code = ['G','A','L','M','F','W','K','Q','E','S','P','V','I','C','Y','H','R','N','D','T']\n",
        "index_code = {}\n",
        "code_index = {}\n",
        "l_max = 20\n",
        "for i in range(len(code)):\n",
        "    index_code[i] = code[i]\n",
        "    code_index[ code[i] ] = i\n",
        "\n",
        "def oneHotEncode(seq, l_max=l_max, index_code=index_code, code_index=code_index):\n",
        "    n_amino = 20\n",
        "    matrix = np.zeros((l_max,n_amino)).astype(int)\n",
        "    for i in range(len(seq)):\n",
        "        matrix[ i , code_index[seq[i]] ] = 1\n",
        "    return matrix\n",
        "\n",
        "def oneHotDecode(matrix, l_max=l_max, index_code=index_code, code_index=code_index):\n",
        "    seq_decode = ''\n",
        "    for i in range(l_max):\n",
        "        row = matrix[i,]\n",
        "        if np.sum(row) == 0:\n",
        "            break\n",
        "        seq_decode += index_code[ np.where( row==1 )[0][0] ]\n",
        "    return seq_decode\n",
        "\n",
        "cuda = False\n",
        "DEVICE = torch.device(\"cuda\" if cuda else \"cpu\")\n",
        "batch_size = 1000\n",
        "x_dim=400 # 20*20\n",
        "hidden_dim = 256\n",
        "hidden_dim2 = 128\n",
        "hidden_dim3 = 64\n",
        "latent_dim = 32\n",
        "\n",
        "lr = 1e-3\n",
        "epochs = 1000\n",
        "#exec(open(\"/dcl02/hongkai/data/shuai/VAE/tmp.py\").read())\n"
      ],
      "metadata": {
        "id": "ymxJ-C1jven4"
      },
      "execution_count": 5,
      "outputs": []
    },
    {
      "cell_type": "code",
      "source": [
        "from google.colab import drive\n",
        "drive.mount('/content/drive')"
      ],
      "metadata": {
        "colab": {
          "base_uri": "https://localhost:8080/"
        },
        "id": "8Eq9BZfNUNdV",
        "outputId": "7f919d36-78f3-41e9-e566-8444685542e6"
      },
      "execution_count": 6,
      "outputs": [
        {
          "output_type": "stream",
          "name": "stdout",
          "text": [
            "Mounted at /content/drive\n"
          ]
        }
      ]
    },
    {
      "cell_type": "code",
      "source": [
        "\n",
        "data_train = pd.read_csv(r'/content/drive/My Drive/DL/VAE/NormalCDR3.txt',delimiter='\\t',header=None,names=['seq'])\n",
        "#only take seqs length <= 20\n",
        "data_train['length'] = [len(seq) for seq in data_train['seq']]\n",
        "data_train = data_train[ data_train['length']<=20 ]\n",
        "seq_train = list( data_train['seq'] )\n",
        "\n",
        "seq_train_matrix = []\n",
        "for seq in seq_train:\n",
        "    seq_train_matrix.append( oneHotEncode(seq) )\n",
        "\n",
        "seq_train_matrix = np.array( seq_train_matrix )"
      ],
      "metadata": {
        "id": "nEEhnJPDUGYK"
      },
      "execution_count": 7,
      "outputs": []
    },
    {
      "cell_type": "code",
      "source": [
        "\n",
        "r1_transform=torch.from_numpy(seq_train_matrix)\n",
        "r1_transform=r1_transform.float()\n",
        "train_ds, test_ds = torch.utils.data.random_split(r1_transform, (int(0.8*len(r1_transform)), len(r1_transform)-int(0.8*len(r1_transform))))\n",
        "print(train_ds, test_ds)\n",
        "train_loader = DataLoader(dataset=train_ds, batch_size=1000)\n",
        "test_loader  = DataLoader(dataset=test_ds,  batch_size=1000)"
      ],
      "metadata": {
        "colab": {
          "base_uri": "https://localhost:8080/"
        },
        "id": "N5nWXOe5Up-c",
        "outputId": "e9336722-2c72-46a7-b424-541db8fd0654"
      },
      "execution_count": 8,
      "outputs": [
        {
          "output_type": "stream",
          "name": "stdout",
          "text": [
            "<torch.utils.data.dataset.Subset object at 0x7f17f145c650> <torch.utils.data.dataset.Subset object at 0x7f17f145ccd0>\n"
          ]
        }
      ]
    },
    {
      "cell_type": "code",
      "source": [
        "class Encoder(nn.Module):    \n",
        "    def __init__(self, input_dim, hidden_dim,hidden_dim2,hidden_dim3,latent_dim):\n",
        "        super(Encoder, self).__init__()\n",
        "\n",
        "        self.FC_input = nn.Linear(input_dim, hidden_dim)\n",
        "        self.FC_input2 = nn.Linear(hidden_dim, hidden_dim)\n",
        "        self.FC_input3 = nn.Linear(hidden_dim, hidden_dim2)\n",
        "        self.FC_input4 = nn.Linear(hidden_dim2, hidden_dim3)\n",
        "        self.FC_mean  = nn.Linear(hidden_dim3, latent_dim)\n",
        "        self.FC_var  = nn.Linear(hidden_dim3, latent_dim)\n",
        "        #i change it from LeakReLU 0.2 to ReLU\n",
        "        self.ReLU = nn.ReLU(0)       \n",
        "        self.training = True\n",
        "        \n",
        "    def forward(self, x):\n",
        "        h_       = self.ReLU(self.FC_input(x))\n",
        "        h_       = self.ReLU(self.FC_input2(h_))\n",
        "        h_       = self.ReLU(self.FC_input3(h_))\n",
        "        h_       = self.ReLU(self.FC_input4(h_))\n",
        "    \n",
        "        mean     = self.FC_mean(h_)  \n",
        "        log_var  = self.FC_var(h_) \n",
        "        return mean, log_var\n",
        "    \n",
        "class Decoder(nn.Module):\n",
        "    def __init__(self, latent_dim, hidden_dim,hidden_dim2,hidden_dim3,output_dim):\n",
        "        super(Decoder, self).__init__()\n",
        "        self.FC_hidden = nn.Linear(latent_dim, hidden_dim3)\n",
        "        self.FC_hidden4 = nn.Linear(hidden_dim3, hidden_dim2)\n",
        "        self.FC_hidden3 = nn.Linear(hidden_dim2, hidden_dim)\n",
        "        self.FC_hidden2 = nn.Linear(hidden_dim, hidden_dim)\n",
        "        self.FC_output = nn.Linear(hidden_dim, output_dim)      \n",
        "        #i change it from LeakReLU 0.2 to ReLU\n",
        "        self.ReLU = nn.ReLU(0)   \n",
        "        \n",
        "    def forward(self, x):\n",
        "        h     = self.ReLU(self.FC_hidden(x))\n",
        "        h     = self.ReLU(self.FC_hidden4(h))\n",
        "        h     = self.ReLU(self.FC_hidden3(h))\n",
        "        h     = self.ReLU(self.FC_hidden2(h))     \n",
        "        x_hat = self.ReLU(self.FC_output(h))\n",
        "        return x_hat\n",
        "\n",
        "class Model(nn.Module):\n",
        "    def __init__(self, Encoder, Decoder):\n",
        "        super(Model, self).__init__()\n",
        "        self.Encoder = Encoder\n",
        "        self.Decoder = Decoder\n",
        "        \n",
        "    def reparameterization(self, mean,var):  \n",
        "        epsilon = torch.randn_like(var).to(DEVICE) \n",
        "        z = mean + var*epsilon\n",
        "        return z\n",
        "                       \n",
        "    def forward(self, x):\n",
        "        mean, log_var = self.Encoder(x)\n",
        "        z = self.reparameterization(mean, torch.exp(0.5 * log_var)) # takes exponential function (log var -> var) ]\n",
        "        x_hat            = self.Decoder(z)\n",
        "        \n",
        "        return x_hat, mean, log_var\n",
        "\n",
        "encoder = Encoder(input_dim=x_dim, hidden_dim=hidden_dim, hidden_dim2=hidden_dim2, hidden_dim3=hidden_dim3,latent_dim=latent_dim)\n",
        "decoder = Decoder(latent_dim=latent_dim, hidden_dim = hidden_dim, hidden_dim2=hidden_dim2, hidden_dim3=hidden_dim3,output_dim = x_dim)\n",
        "\n",
        "model = Model(Encoder=encoder, Decoder=decoder).to(DEVICE)"
      ],
      "metadata": {
        "id": "xXPpx9sYSdal"
      },
      "execution_count": 23,
      "outputs": []
    },
    {
      "cell_type": "code",
      "source": [
        "print(model)"
      ],
      "metadata": {
        "colab": {
          "base_uri": "https://localhost:8080/"
        },
        "id": "yI0WUBzLWPNi",
        "outputId": "4977cb28-3e9b-4d59-8ae2-eba241333eda"
      },
      "execution_count": 24,
      "outputs": [
        {
          "output_type": "stream",
          "name": "stdout",
          "text": [
            "Model(\n",
            "  (Encoder): Encoder(\n",
            "    (FC_input): Linear(in_features=400, out_features=256, bias=True)\n",
            "    (FC_input2): Linear(in_features=256, out_features=256, bias=True)\n",
            "    (FC_input3): Linear(in_features=256, out_features=128, bias=True)\n",
            "    (FC_input4): Linear(in_features=128, out_features=64, bias=True)\n",
            "    (FC_mean): Linear(in_features=64, out_features=32, bias=True)\n",
            "    (FC_var): Linear(in_features=64, out_features=32, bias=True)\n",
            "    (ReLU): ReLU()\n",
            "  )\n",
            "  (Decoder): Decoder(\n",
            "    (FC_hidden): Linear(in_features=32, out_features=64, bias=True)\n",
            "    (FC_hidden4): Linear(in_features=64, out_features=128, bias=True)\n",
            "    (FC_hidden3): Linear(in_features=128, out_features=256, bias=True)\n",
            "    (FC_hidden2): Linear(in_features=256, out_features=256, bias=True)\n",
            "    (FC_output): Linear(in_features=256, out_features=400, bias=True)\n",
            "    (ReLU): ReLU()\n",
            "  )\n",
            ")\n"
          ]
        }
      ]
    },
    {
      "cell_type": "code",
      "source": [
        "\n",
        "from torch.optim import Adam\n",
        "#BCE_loss = nn.BCELoss()\n",
        "def loss_function(x, x_hat, mean, log_var):\n",
        "    MSELoss_criterion = nn.MSELoss()\n",
        "    reproduction_loss = MSELoss_criterion(x_hat, x) \n",
        "    KLD      = - 0.5 * torch.sum(1+ log_var - mean.pow(2) - log_var.exp())\n",
        "    return reproduction_loss + KLD\n",
        "\n",
        "\n",
        "optimizer = Adam(model.parameters(), lr=lr)"
      ],
      "metadata": {
        "id": "N_uAS4HNTyVU"
      },
      "execution_count": 25,
      "outputs": []
    },
    {
      "cell_type": "code",
      "source": [
        "print(\"start training VAE\")"
      ],
      "metadata": {
        "colab": {
          "base_uri": "https://localhost:8080/"
        },
        "id": "01-eHRVDUEOs",
        "outputId": "9bd877c4-e30c-4ef3-9b63-ea799e99e3d2"
      },
      "execution_count": 11,
      "outputs": [
        {
          "output_type": "stream",
          "name": "stdout",
          "text": [
            "start training VAE\n"
          ]
        }
      ]
    },
    {
      "cell_type": "code",
      "source": [
        "model.train()\n",
        "train_loss= []\n",
        "testtoal_loss= []\n",
        "for epoch in range(epochs):\n",
        "    overall_loss = 0\n",
        "    overall_testloss= 0\n",
        "    for batch_idx, x in enumerate(train_loader):\n",
        "        x = x.view(len(x), x_dim)\n",
        "        x = x.to(DEVICE)\n",
        "        #zero grad\n",
        "        optimizer.zero_grad()\n",
        "        #----\n",
        "        x_hat, mean, log_var = model(x)\n",
        "        loss = loss_function(x, x_hat, mean,log_var)\n",
        "        overall_loss += loss.item()  \n",
        "        #back prog\n",
        "        loss.backward()     \n",
        "        optimizer.step()\n",
        "    #test loss, but not used for train\n",
        "    for batch_idx, x in enumerate(test_loader):\n",
        "        x = x.view(len(x), x_dim)\n",
        "        x = x.to(DEVICE)\n",
        "        pred, mean, log_var = model(x)\n",
        "        test_loss = loss_function(x, pred, mean,log_var)\n",
        "        overall_testloss += test_loss.item()   \n",
        "    if (epoch % 100 == 0):\n",
        "      #print('====> Epoch %d done! Average Loss:  = %.2e, Average test loss = %.2e' % (epoch,overall_loss / (batch_idx*batch_size),overall_testloss/(batch_idx*batch_size)))\n",
        "        \n",
        "        \n",
        "      print(\"\\tEpoch\", epoch , \"complete!\", \"\\tAverage Loss: \", overall_loss / len(train_ds),#overall_loss / (batch_idx*batch_size),\n",
        "        \"\\tAverage Test Loss: \" , overall_testloss/len(test_ds))\n",
        "    with open('/content/drive/My Drive/DL/VAE/record.txt','w') as f:\n",
        "      f.writelines(str(epoch))\n",
        "    train_loss.append( overall_loss / len(train_ds) )\n",
        "    testtoal_loss.append( overall_testloss / len(test_ds) )\n",
        "    \n",
        "print(\"Finish!!\")    "
      ],
      "metadata": {
        "colab": {
          "base_uri": "https://localhost:8080/"
        },
        "id": "V1anB7idVFuB",
        "outputId": "2b694c08-1642-49da-87e5-f52718693d59"
      },
      "execution_count": 27,
      "outputs": [
        {
          "output_type": "stream",
          "name": "stdout",
          "text": [
            "\tEpoch 0 complete! \tAverage Loss:  2.6515108766034244e-05 \tAverage Test Loss:  2.656882372684777e-05\n",
            "\tEpoch 100 complete! \tAverage Loss:  2.5594436505343765e-05 \tAverage Test Loss:  2.4601080222055317e-05\n",
            "\tEpoch 200 complete! \tAverage Loss:  2.4475016281940042e-05 \tAverage Test Loss:  2.4399724788963796e-05\n",
            "\tEpoch 300 complete! \tAverage Loss:  2.4668698431923985e-05 \tAverage Test Loss:  2.4406830547377468e-05\n",
            "\tEpoch 400 complete! \tAverage Loss:  2.44622906902805e-05 \tAverage Test Loss:  2.4395933840423822e-05\n",
            "\tEpoch 500 complete! \tAverage Loss:  2.4857576529029757e-05 \tAverage Test Loss:  2.4392559425905346e-05\n",
            "\tEpoch 600 complete! \tAverage Loss:  2.4432056874502452e-05 \tAverage Test Loss:  2.437607222236693e-05\n",
            "\tEpoch 700 complete! \tAverage Loss:  2.442741469712928e-05 \tAverage Test Loss:  2.437229920178652e-05\n",
            "\tEpoch 800 complete! \tAverage Loss:  2.442710631294176e-05 \tAverage Test Loss:  2.437049150466919e-05\n",
            "\tEpoch 900 complete! \tAverage Loss:  2.4433060083538295e-05 \tAverage Test Loss:  2.4370307335630058e-05\n",
            "Finish!!\n"
          ]
        }
      ]
    },
    {
      "cell_type": "code",
      "source": [
        "# save model \n",
        "torch.save(model, '/content/drive/My Drive/DL/VAE/Onehot_modified_1000_echo_cat_train.apx')"
      ],
      "metadata": {
        "id": "T8UqarpQVRPI"
      },
      "execution_count": 34,
      "outputs": []
    },
    {
      "cell_type": "code",
      "source": [
        "import matplotlib.pyplot as plt"
      ],
      "metadata": {
        "id": "AmLbwFsqfpCi"
      },
      "execution_count": 31,
      "outputs": []
    },
    {
      "cell_type": "code",
      "source": [
        "def plotCurve(x_vals,y_vals,x_label, y_label,\n",
        "              x2_vals=None, y2_vals=None, legend=None,figsize=(3.5,2.5)):\n",
        "    plt.xlabel(x_label)\n",
        "    plt.ylabel(y_label)\n",
        "    plt.semilogy(x_vals, y_vals)\n",
        "    if x2_vals and y2_vals:\n",
        "        plt.semilogy(x2_vals, y2_vals, linestyle=':')\n",
        "    \n",
        "    if legend:\n",
        "        plt.legend(legend)\n",
        "    plt.savefig('/content/drive/My Drive/DL/VAE/train.png')"
      ],
      "metadata": {
        "id": "4J2UiAEWW8Li"
      },
      "execution_count": 32,
      "outputs": []
    },
    {
      "cell_type": "code",
      "source": [
        "plotCurve(range(1,epochs+1),train_loss,\"epoch\",\"loss\",\n",
        "          range(1,epochs+1),testtoal_loss,\n",
        "          ['train','test'])"
      ],
      "metadata": {
        "colab": {
          "base_uri": "https://localhost:8080/",
          "height": 279
        },
        "id": "mQHldFTefoZ7",
        "outputId": "09c58dc0-7523-4cb9-8a42-5d6fec2908d1"
      },
      "execution_count": 33,
      "outputs": [
        {
          "output_type": "display_data",
          "data": {
            "text/plain": [
              "<Figure size 432x288 with 1 Axes>"
            ],
            "image/png": "[encoded data removed]"
          },
          "metadata": {
            "needs_background": "light"
          }
        }
      ]
    },
    {
      "cell_type": "code",
      "source": [
        ""
      ],
      "metadata": {
        "id": "B0b5yLhAfxEd"
      },
      "execution_count": null,
      "outputs": []
    }
  ]
}